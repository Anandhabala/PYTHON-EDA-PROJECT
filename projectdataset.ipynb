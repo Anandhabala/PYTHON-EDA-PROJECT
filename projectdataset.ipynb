{
 "cells": [
  {
   "cell_type": "code",
   "execution_count": 1,
   "metadata": {},
   "outputs": [],
   "source": [
    "### PROJECT DATASETS ###\n",
    "### HBO Max - TV Shows and Movies ###"
   ]
  },
  {
   "cell_type": "code",
   "execution_count": 7,
   "metadata": {},
   "outputs": [],
   "source": [
    "import pandas as pd\n",
    "import matplotlib.pyplot as plt\n",
    "import seaborn as sns\n",
    "%matplotlib inline\n",
    "import os"
   ]
  },
  {
   "cell_type": "code",
   "execution_count": 8,
   "metadata": {},
   "outputs": [],
   "source": [
    "###  YOU should import the data set of titles its contain the HBO data.\n",
    "### the readed csv file is assigned to a HBO_MOVIES_df.\n",
    "HBO_MOVIES_df=pd.read_csv(\"titles.csv\", sep=\",\")"
   ]
  },
  {
   "cell_type": "code",
   "execution_count": 9,
   "metadata": {},
   "outputs": [
    {
     "data": {
      "text/html": [
       "<div>\n",
       "<style scoped>\n",
       "    .dataframe tbody tr th:only-of-type {\n",
       "        vertical-align: middle;\n",
       "    }\n",
       "\n",
       "    .dataframe tbody tr th {\n",
       "        vertical-align: top;\n",
       "    }\n",
       "\n",
       "    .dataframe thead th {\n",
       "        text-align: right;\n",
       "    }\n",
       "</style>\n",
       "<table border=\"1\" class=\"dataframe\">\n",
       "  <thead>\n",
       "    <tr style=\"text-align: right;\">\n",
       "      <th></th>\n",
       "      <th>id</th>\n",
       "      <th>title</th>\n",
       "      <th>type</th>\n",
       "      <th>description</th>\n",
       "      <th>release_year</th>\n",
       "      <th>age_certification</th>\n",
       "      <th>runtime</th>\n",
       "      <th>genres</th>\n",
       "      <th>production_countries</th>\n",
       "      <th>seasons</th>\n",
       "      <th>imdb_id</th>\n",
       "      <th>imdb_score</th>\n",
       "      <th>imdb_votes</th>\n",
       "      <th>tmdb_popularity</th>\n",
       "      <th>tmdb_score</th>\n",
       "    </tr>\n",
       "  </thead>\n",
       "  <tbody>\n",
       "    <tr>\n",
       "      <th>0</th>\n",
       "      <td>tm155702</td>\n",
       "      <td>The Wizard of Oz</td>\n",
       "      <td>MOVIE</td>\n",
       "      <td>Young Dorothy finds herself in a magical world...</td>\n",
       "      <td>1939</td>\n",
       "      <td>G</td>\n",
       "      <td>102</td>\n",
       "      <td>['fantasy', 'family']</td>\n",
       "      <td>['US']</td>\n",
       "      <td>NaN</td>\n",
       "      <td>tt0032138</td>\n",
       "      <td>8.1</td>\n",
       "      <td>389774.0</td>\n",
       "      <td>41.442</td>\n",
       "      <td>7.6</td>\n",
       "    </tr>\n",
       "    <tr>\n",
       "      <th>1</th>\n",
       "      <td>tm83648</td>\n",
       "      <td>Citizen Kane</td>\n",
       "      <td>MOVIE</td>\n",
       "      <td>Newspaper magnate, Charles Foster Kane is take...</td>\n",
       "      <td>1941</td>\n",
       "      <td>PG</td>\n",
       "      <td>119</td>\n",
       "      <td>['drama']</td>\n",
       "      <td>['US']</td>\n",
       "      <td>NaN</td>\n",
       "      <td>tt0033467</td>\n",
       "      <td>8.3</td>\n",
       "      <td>433804.0</td>\n",
       "      <td>14.383</td>\n",
       "      <td>8.0</td>\n",
       "    </tr>\n",
       "    <tr>\n",
       "      <th>2</th>\n",
       "      <td>tm77588</td>\n",
       "      <td>Casablanca</td>\n",
       "      <td>MOVIE</td>\n",
       "      <td>In Casablanca, Morocco in December 1941, a cyn...</td>\n",
       "      <td>1942</td>\n",
       "      <td>PG</td>\n",
       "      <td>102</td>\n",
       "      <td>['drama', 'romance', 'war']</td>\n",
       "      <td>['US']</td>\n",
       "      <td>NaN</td>\n",
       "      <td>tt0034583</td>\n",
       "      <td>8.5</td>\n",
       "      <td>558849.0</td>\n",
       "      <td>20.087</td>\n",
       "      <td>8.2</td>\n",
       "    </tr>\n",
       "    <tr>\n",
       "      <th>3</th>\n",
       "      <td>tm82363</td>\n",
       "      <td>The Big Sleep</td>\n",
       "      <td>MOVIE</td>\n",
       "      <td>Private Investigator Philip Marlowe is hired b...</td>\n",
       "      <td>1946</td>\n",
       "      <td>NaN</td>\n",
       "      <td>116</td>\n",
       "      <td>['thriller', 'crime']</td>\n",
       "      <td>['US']</td>\n",
       "      <td>NaN</td>\n",
       "      <td>tt0038355</td>\n",
       "      <td>7.9</td>\n",
       "      <td>84494.0</td>\n",
       "      <td>12.911</td>\n",
       "      <td>7.7</td>\n",
       "    </tr>\n",
       "    <tr>\n",
       "      <th>4</th>\n",
       "      <td>tm84701</td>\n",
       "      <td>The Maltese Falcon</td>\n",
       "      <td>MOVIE</td>\n",
       "      <td>A private detective takes on a case that invol...</td>\n",
       "      <td>1941</td>\n",
       "      <td>NaN</td>\n",
       "      <td>100</td>\n",
       "      <td>['thriller', 'romance', 'crime']</td>\n",
       "      <td>['US']</td>\n",
       "      <td>NaN</td>\n",
       "      <td>tt0033870</td>\n",
       "      <td>8.0</td>\n",
       "      <td>156603.0</td>\n",
       "      <td>12.788</td>\n",
       "      <td>7.8</td>\n",
       "    </tr>\n",
       "    <tr>\n",
       "      <th>...</th>\n",
       "      <td>...</td>\n",
       "      <td>...</td>\n",
       "      <td>...</td>\n",
       "      <td>...</td>\n",
       "      <td>...</td>\n",
       "      <td>...</td>\n",
       "      <td>...</td>\n",
       "      <td>...</td>\n",
       "      <td>...</td>\n",
       "      <td>...</td>\n",
       "      <td>...</td>\n",
       "      <td>...</td>\n",
       "      <td>...</td>\n",
       "      <td>...</td>\n",
       "      <td>...</td>\n",
       "    </tr>\n",
       "    <tr>\n",
       "      <th>3289</th>\n",
       "      <td>tm1082718</td>\n",
       "      <td>Romeo Santos: Utopia Live from MetLife Stadium</td>\n",
       "      <td>MOVIE</td>\n",
       "      <td>In this Concert he focuses on the star and mos...</td>\n",
       "      <td>2021</td>\n",
       "      <td>NaN</td>\n",
       "      <td>103</td>\n",
       "      <td>['romance', 'music']</td>\n",
       "      <td>['PR']</td>\n",
       "      <td>NaN</td>\n",
       "      <td>NaN</td>\n",
       "      <td>NaN</td>\n",
       "      <td>NaN</td>\n",
       "      <td>8.425</td>\n",
       "      <td>8.1</td>\n",
       "    </tr>\n",
       "    <tr>\n",
       "      <th>3290</th>\n",
       "      <td>tm1067128</td>\n",
       "      <td>Algo Azul</td>\n",
       "      <td>MOVIE</td>\n",
       "      <td>Romantic comedy...coming soon.</td>\n",
       "      <td>2021</td>\n",
       "      <td>NaN</td>\n",
       "      <td>90</td>\n",
       "      <td>['comedy']</td>\n",
       "      <td>['PA']</td>\n",
       "      <td>NaN</td>\n",
       "      <td>tt9257620</td>\n",
       "      <td>5.9</td>\n",
       "      <td>50.0</td>\n",
       "      <td>1.400</td>\n",
       "      <td>2.0</td>\n",
       "    </tr>\n",
       "    <tr>\n",
       "      <th>3291</th>\n",
       "      <td>tm1121489</td>\n",
       "      <td>Entre Nos: What She Said</td>\n",
       "      <td>MOVIE</td>\n",
       "      <td>A stand-up comedy special featuring Shari Diaz...</td>\n",
       "      <td>2021</td>\n",
       "      <td>NaN</td>\n",
       "      <td>28</td>\n",
       "      <td>['comedy']</td>\n",
       "      <td>[]</td>\n",
       "      <td>NaN</td>\n",
       "      <td>tt15532762</td>\n",
       "      <td>NaN</td>\n",
       "      <td>NaN</td>\n",
       "      <td>NaN</td>\n",
       "      <td>NaN</td>\n",
       "    </tr>\n",
       "    <tr>\n",
       "      <th>3292</th>\n",
       "      <td>tm1121486</td>\n",
       "      <td>Entre Nos: The Winners 2</td>\n",
       "      <td>MOVIE</td>\n",
       "      <td>Comedy special starring winners of the second ...</td>\n",
       "      <td>2021</td>\n",
       "      <td>NaN</td>\n",
       "      <td>28</td>\n",
       "      <td>['comedy']</td>\n",
       "      <td>[]</td>\n",
       "      <td>NaN</td>\n",
       "      <td>tt15532736</td>\n",
       "      <td>NaN</td>\n",
       "      <td>NaN</td>\n",
       "      <td>NaN</td>\n",
       "      <td>NaN</td>\n",
       "    </tr>\n",
       "    <tr>\n",
       "      <th>3293</th>\n",
       "      <td>tm989132</td>\n",
       "      <td>The Infamous Future</td>\n",
       "      <td>MOVIE</td>\n",
       "      <td>The untold story of New York City's Eagle Acad...</td>\n",
       "      <td>2021</td>\n",
       "      <td>NaN</td>\n",
       "      <td>40</td>\n",
       "      <td>['documentation']</td>\n",
       "      <td>['US']</td>\n",
       "      <td>NaN</td>\n",
       "      <td>tt9064760</td>\n",
       "      <td>NaN</td>\n",
       "      <td>NaN</td>\n",
       "      <td>1.101</td>\n",
       "      <td>5.3</td>\n",
       "    </tr>\n",
       "  </tbody>\n",
       "</table>\n",
       "<p>3294 rows × 15 columns</p>\n",
       "</div>"
      ],
      "text/plain": [
       "             id                                           title   type  \\\n",
       "0      tm155702                                The Wizard of Oz  MOVIE   \n",
       "1       tm83648                                    Citizen Kane  MOVIE   \n",
       "2       tm77588                                      Casablanca  MOVIE   \n",
       "3       tm82363                                   The Big Sleep  MOVIE   \n",
       "4       tm84701                              The Maltese Falcon  MOVIE   \n",
       "...         ...                                             ...    ...   \n",
       "3289  tm1082718  Romeo Santos: Utopia Live from MetLife Stadium  MOVIE   \n",
       "3290  tm1067128                                       Algo Azul  MOVIE   \n",
       "3291  tm1121489                        Entre Nos: What She Said  MOVIE   \n",
       "3292  tm1121486                        Entre Nos: The Winners 2  MOVIE   \n",
       "3293   tm989132                             The Infamous Future  MOVIE   \n",
       "\n",
       "                                            description  release_year  \\\n",
       "0     Young Dorothy finds herself in a magical world...          1939   \n",
       "1     Newspaper magnate, Charles Foster Kane is take...          1941   \n",
       "2     In Casablanca, Morocco in December 1941, a cyn...          1942   \n",
       "3     Private Investigator Philip Marlowe is hired b...          1946   \n",
       "4     A private detective takes on a case that invol...          1941   \n",
       "...                                                 ...           ...   \n",
       "3289  In this Concert he focuses on the star and mos...          2021   \n",
       "3290                     Romantic comedy...coming soon.          2021   \n",
       "3291  A stand-up comedy special featuring Shari Diaz...          2021   \n",
       "3292  Comedy special starring winners of the second ...          2021   \n",
       "3293  The untold story of New York City's Eagle Acad...          2021   \n",
       "\n",
       "     age_certification  runtime                            genres  \\\n",
       "0                    G      102             ['fantasy', 'family']   \n",
       "1                   PG      119                         ['drama']   \n",
       "2                   PG      102       ['drama', 'romance', 'war']   \n",
       "3                  NaN      116             ['thriller', 'crime']   \n",
       "4                  NaN      100  ['thriller', 'romance', 'crime']   \n",
       "...                ...      ...                               ...   \n",
       "3289               NaN      103              ['romance', 'music']   \n",
       "3290               NaN       90                        ['comedy']   \n",
       "3291               NaN       28                        ['comedy']   \n",
       "3292               NaN       28                        ['comedy']   \n",
       "3293               NaN       40                 ['documentation']   \n",
       "\n",
       "     production_countries  seasons     imdb_id  imdb_score  imdb_votes  \\\n",
       "0                  ['US']      NaN   tt0032138         8.1    389774.0   \n",
       "1                  ['US']      NaN   tt0033467         8.3    433804.0   \n",
       "2                  ['US']      NaN   tt0034583         8.5    558849.0   \n",
       "3                  ['US']      NaN   tt0038355         7.9     84494.0   \n",
       "4                  ['US']      NaN   tt0033870         8.0    156603.0   \n",
       "...                   ...      ...         ...         ...         ...   \n",
       "3289               ['PR']      NaN         NaN         NaN         NaN   \n",
       "3290               ['PA']      NaN   tt9257620         5.9        50.0   \n",
       "3291                   []      NaN  tt15532762         NaN         NaN   \n",
       "3292                   []      NaN  tt15532736         NaN         NaN   \n",
       "3293               ['US']      NaN   tt9064760         NaN         NaN   \n",
       "\n",
       "      tmdb_popularity  tmdb_score  \n",
       "0              41.442         7.6  \n",
       "1              14.383         8.0  \n",
       "2              20.087         8.2  \n",
       "3              12.911         7.7  \n",
       "4              12.788         7.8  \n",
       "...               ...         ...  \n",
       "3289            8.425         8.1  \n",
       "3290            1.400         2.0  \n",
       "3291              NaN         NaN  \n",
       "3292              NaN         NaN  \n",
       "3293            1.101         5.3  \n",
       "\n",
       "[3294 rows x 15 columns]"
      ]
     },
     "execution_count": 9,
     "metadata": {},
     "output_type": "execute_result"
    }
   ],
   "source": [
    "### now you can perform some operation in titles.csv file data are stored in HBO_ MOVIES_df\n",
    "### now call the HBO_MOVIES_df its shown .\n",
    "HBO_MOVIES_df"
   ]
  },
  {
   "cell_type": "code",
   "execution_count": 10,
   "metadata": {},
   "outputs": [
    {
     "name": "stdout",
     "output_type": "stream",
     "text": [
      "<class 'pandas.core.frame.DataFrame'>\n",
      "RangeIndex: 3294 entries, 0 to 3293\n",
      "Data columns (total 15 columns):\n",
      " #   Column                Non-Null Count  Dtype  \n",
      "---  ------                --------------  -----  \n",
      " 0   id                    3294 non-null   object \n",
      " 1   title                 3294 non-null   object \n",
      " 2   type                  3294 non-null   object \n",
      " 3   description           3282 non-null   object \n",
      " 4   release_year          3294 non-null   int64  \n",
      " 5   age_certification     2086 non-null   object \n",
      " 6   runtime               3294 non-null   int64  \n",
      " 7   genres                3294 non-null   object \n",
      " 8   production_countries  3294 non-null   object \n",
      " 9   seasons               756 non-null    float64\n",
      " 10  imdb_id               2968 non-null   object \n",
      " 11  imdb_score            2922 non-null   float64\n",
      " 12  imdb_votes            2911 non-null   float64\n",
      " 13  tmdb_popularity       3261 non-null   float64\n",
      " 14  tmdb_score            3026 non-null   float64\n",
      "dtypes: float64(5), int64(2), object(8)\n",
      "memory usage: 386.1+ KB\n"
     ]
    }
   ],
   "source": [
    "### its shows the whicj column have null values and which type of data type.\n",
    "HBO_MOVIES_df.info()"
   ]
  },
  {
   "cell_type": "code",
   "execution_count": 11,
   "metadata": {},
   "outputs": [
    {
     "data": {
      "text/html": [
       "<div>\n",
       "<style scoped>\n",
       "    .dataframe tbody tr th:only-of-type {\n",
       "        vertical-align: middle;\n",
       "    }\n",
       "\n",
       "    .dataframe tbody tr th {\n",
       "        vertical-align: top;\n",
       "    }\n",
       "\n",
       "    .dataframe thead th {\n",
       "        text-align: right;\n",
       "    }\n",
       "</style>\n",
       "<table border=\"1\" class=\"dataframe\">\n",
       "  <thead>\n",
       "    <tr style=\"text-align: right;\">\n",
       "      <th></th>\n",
       "      <th>release_year</th>\n",
       "      <th>runtime</th>\n",
       "      <th>seasons</th>\n",
       "      <th>imdb_score</th>\n",
       "      <th>imdb_votes</th>\n",
       "      <th>tmdb_popularity</th>\n",
       "      <th>tmdb_score</th>\n",
       "    </tr>\n",
       "  </thead>\n",
       "  <tbody>\n",
       "    <tr>\n",
       "      <th>count</th>\n",
       "      <td>3294.000000</td>\n",
       "      <td>3294.000000</td>\n",
       "      <td>756.000000</td>\n",
       "      <td>2922.000000</td>\n",
       "      <td>2.911000e+03</td>\n",
       "      <td>3261.000000</td>\n",
       "      <td>3026.000000</td>\n",
       "    </tr>\n",
       "    <tr>\n",
       "      <th>mean</th>\n",
       "      <td>2001.194293</td>\n",
       "      <td>80.914997</td>\n",
       "      <td>2.998677</td>\n",
       "      <td>6.883949</td>\n",
       "      <td>6.461835e+04</td>\n",
       "      <td>21.105891</td>\n",
       "      <td>6.850099</td>\n",
       "    </tr>\n",
       "    <tr>\n",
       "      <th>std</th>\n",
       "      <td>23.542337</td>\n",
       "      <td>38.475347</td>\n",
       "      <td>3.651181</td>\n",
       "      <td>1.059668</td>\n",
       "      <td>1.754617e+05</td>\n",
       "      <td>89.137800</td>\n",
       "      <td>1.081377</td>\n",
       "    </tr>\n",
       "    <tr>\n",
       "      <th>min</th>\n",
       "      <td>1901.000000</td>\n",
       "      <td>1.000000</td>\n",
       "      <td>1.000000</td>\n",
       "      <td>1.500000</td>\n",
       "      <td>5.000000e+00</td>\n",
       "      <td>0.050393</td>\n",
       "      <td>1.000000</td>\n",
       "    </tr>\n",
       "    <tr>\n",
       "      <th>25%</th>\n",
       "      <td>1995.000000</td>\n",
       "      <td>51.250000</td>\n",
       "      <td>1.000000</td>\n",
       "      <td>6.300000</td>\n",
       "      <td>9.245000e+02</td>\n",
       "      <td>3.450000</td>\n",
       "      <td>6.200000</td>\n",
       "    </tr>\n",
       "    <tr>\n",
       "      <th>50%</th>\n",
       "      <td>2010.000000</td>\n",
       "      <td>89.000000</td>\n",
       "      <td>2.000000</td>\n",
       "      <td>7.000000</td>\n",
       "      <td>8.071000e+03</td>\n",
       "      <td>8.561000</td>\n",
       "      <td>6.900000</td>\n",
       "    </tr>\n",
       "    <tr>\n",
       "      <th>75%</th>\n",
       "      <td>2018.000000</td>\n",
       "      <td>106.000000</td>\n",
       "      <td>4.000000</td>\n",
       "      <td>7.600000</td>\n",
       "      <td>4.764500e+04</td>\n",
       "      <td>17.711000</td>\n",
       "      <td>7.500000</td>\n",
       "    </tr>\n",
       "    <tr>\n",
       "      <th>max</th>\n",
       "      <td>2022.000000</td>\n",
       "      <td>255.000000</td>\n",
       "      <td>52.000000</td>\n",
       "      <td>9.400000</td>\n",
       "      <td>2.555504e+06</td>\n",
       "      <td>4447.894000</td>\n",
       "      <td>10.000000</td>\n",
       "    </tr>\n",
       "  </tbody>\n",
       "</table>\n",
       "</div>"
      ],
      "text/plain": [
       "       release_year      runtime     seasons   imdb_score    imdb_votes  \\\n",
       "count   3294.000000  3294.000000  756.000000  2922.000000  2.911000e+03   \n",
       "mean    2001.194293    80.914997    2.998677     6.883949  6.461835e+04   \n",
       "std       23.542337    38.475347    3.651181     1.059668  1.754617e+05   \n",
       "min     1901.000000     1.000000    1.000000     1.500000  5.000000e+00   \n",
       "25%     1995.000000    51.250000    1.000000     6.300000  9.245000e+02   \n",
       "50%     2010.000000    89.000000    2.000000     7.000000  8.071000e+03   \n",
       "75%     2018.000000   106.000000    4.000000     7.600000  4.764500e+04   \n",
       "max     2022.000000   255.000000   52.000000     9.400000  2.555504e+06   \n",
       "\n",
       "       tmdb_popularity   tmdb_score  \n",
       "count      3261.000000  3026.000000  \n",
       "mean         21.105891     6.850099  \n",
       "std          89.137800     1.081377  \n",
       "min           0.050393     1.000000  \n",
       "25%           3.450000     6.200000  \n",
       "50%           8.561000     6.900000  \n",
       "75%          17.711000     7.500000  \n",
       "max        4447.894000    10.000000  "
      ]
     },
     "execution_count": 11,
     "metadata": {},
     "output_type": "execute_result"
    }
   ],
   "source": [
    "### its shown the summary statistics of HBO_MOVIES_df\n",
    "HBO_MOVIES_df.describe()"
   ]
  },
  {
   "cell_type": "code",
   "execution_count": 12,
   "metadata": {},
   "outputs": [
    {
     "data": {
      "text/plain": [
       "(3294, 15)"
      ]
     },
     "execution_count": 12,
     "metadata": {},
     "output_type": "execute_result"
    }
   ],
   "source": [
    "### its shown the how many column and rows in the HBO_MOVIES_df\n",
    "HBO_MOVIES_df.shape"
   ]
  },
  {
   "cell_type": "code",
   "execution_count": 13,
   "metadata": {},
   "outputs": [
    {
     "data": {
      "text/plain": [
       "Index(['id', 'title', 'type', 'description', 'release_year',\n",
       "       'age_certification', 'runtime', 'genres', 'production_countries',\n",
       "       'seasons', 'imdb_id', 'imdb_score', 'imdb_votes', 'tmdb_popularity',\n",
       "       'tmdb_score'],\n",
       "      dtype='object')"
      ]
     },
     "execution_count": 13,
     "metadata": {},
     "output_type": "execute_result"
    }
   ],
   "source": [
    "### what are the columns in the HBO_MOVIES_df its shows the columns name. \n",
    "HBO_MOVIES_df.columns"
   ]
  },
  {
   "cell_type": "code",
   "execution_count": 14,
   "metadata": {},
   "outputs": [
    {
     "data": {
      "text/plain": [
       "(3294, 15)"
      ]
     },
     "execution_count": 14,
     "metadata": {},
     "output_type": "execute_result"
    }
   ],
   "source": [
    "### its remove the duplicates data in HBO_MOVIES_df.\n",
    "HBO_MOVIES_df = HBO_MOVIES_df.drop_duplicates()\n",
    "HBO_MOVIES_df.shape"
   ]
  },
  {
   "cell_type": "code",
   "execution_count": 15,
   "metadata": {},
   "outputs": [
    {
     "data": {
      "text/plain": [
       "id                         0\n",
       "title                      0\n",
       "type                       0\n",
       "description               12\n",
       "release_year               0\n",
       "age_certification       1208\n",
       "runtime                    0\n",
       "genres                     0\n",
       "production_countries       0\n",
       "seasons                 2538\n",
       "imdb_id                  326\n",
       "imdb_score               372\n",
       "imdb_votes               383\n",
       "tmdb_popularity           33\n",
       "tmdb_score               268\n",
       "dtype: int64"
      ]
     },
     "execution_count": 15,
     "metadata": {},
     "output_type": "execute_result"
    }
   ],
   "source": [
    "### its shows the any null vaue in column and count the null value.   \n",
    "missing=HBO_MOVIES_df.isnull().sum()\n",
    "missing"
   ]
  },
  {
   "cell_type": "code",
   "execution_count": 16,
   "metadata": {},
   "outputs": [
    {
     "data": {
      "text/plain": [
       "3294"
      ]
     },
     "execution_count": 16,
     "metadata": {},
     "output_type": "execute_result"
    }
   ],
   "source": [
    "### using unit I varilables and data types.\n",
    "len(HBO_MOVIES_df)"
   ]
  },
  {
   "cell_type": "code",
   "execution_count": 17,
   "metadata": {},
   "outputs": [
    {
     "data": {
      "text/html": [
       "<div>\n",
       "<style scoped>\n",
       "    .dataframe tbody tr th:only-of-type {\n",
       "        vertical-align: middle;\n",
       "    }\n",
       "\n",
       "    .dataframe tbody tr th {\n",
       "        vertical-align: top;\n",
       "    }\n",
       "\n",
       "    .dataframe thead th {\n",
       "        text-align: right;\n",
       "    }\n",
       "</style>\n",
       "<table border=\"1\" class=\"dataframe\">\n",
       "  <thead>\n",
       "    <tr style=\"text-align: right;\">\n",
       "      <th></th>\n",
       "      <th>release_year</th>\n",
       "      <th>runtime</th>\n",
       "      <th>seasons</th>\n",
       "      <th>imdb_score</th>\n",
       "      <th>imdb_votes</th>\n",
       "      <th>tmdb_popularity</th>\n",
       "      <th>tmdb_score</th>\n",
       "    </tr>\n",
       "  </thead>\n",
       "  <tbody>\n",
       "    <tr>\n",
       "      <th>0</th>\n",
       "      <td>1939</td>\n",
       "      <td>102</td>\n",
       "      <td>NaN</td>\n",
       "      <td>8.1</td>\n",
       "      <td>389774.0</td>\n",
       "      <td>41.442</td>\n",
       "      <td>7.6</td>\n",
       "    </tr>\n",
       "    <tr>\n",
       "      <th>1</th>\n",
       "      <td>1941</td>\n",
       "      <td>119</td>\n",
       "      <td>NaN</td>\n",
       "      <td>8.3</td>\n",
       "      <td>433804.0</td>\n",
       "      <td>14.383</td>\n",
       "      <td>8.0</td>\n",
       "    </tr>\n",
       "    <tr>\n",
       "      <th>2</th>\n",
       "      <td>1942</td>\n",
       "      <td>102</td>\n",
       "      <td>NaN</td>\n",
       "      <td>8.5</td>\n",
       "      <td>558849.0</td>\n",
       "      <td>20.087</td>\n",
       "      <td>8.2</td>\n",
       "    </tr>\n",
       "    <tr>\n",
       "      <th>3</th>\n",
       "      <td>1946</td>\n",
       "      <td>116</td>\n",
       "      <td>NaN</td>\n",
       "      <td>7.9</td>\n",
       "      <td>84494.0</td>\n",
       "      <td>12.911</td>\n",
       "      <td>7.7</td>\n",
       "    </tr>\n",
       "    <tr>\n",
       "      <th>4</th>\n",
       "      <td>1941</td>\n",
       "      <td>100</td>\n",
       "      <td>NaN</td>\n",
       "      <td>8.0</td>\n",
       "      <td>156603.0</td>\n",
       "      <td>12.788</td>\n",
       "      <td>7.8</td>\n",
       "    </tr>\n",
       "    <tr>\n",
       "      <th>...</th>\n",
       "      <td>...</td>\n",
       "      <td>...</td>\n",
       "      <td>...</td>\n",
       "      <td>...</td>\n",
       "      <td>...</td>\n",
       "      <td>...</td>\n",
       "      <td>...</td>\n",
       "    </tr>\n",
       "    <tr>\n",
       "      <th>3289</th>\n",
       "      <td>2021</td>\n",
       "      <td>103</td>\n",
       "      <td>NaN</td>\n",
       "      <td>NaN</td>\n",
       "      <td>NaN</td>\n",
       "      <td>8.425</td>\n",
       "      <td>8.1</td>\n",
       "    </tr>\n",
       "    <tr>\n",
       "      <th>3290</th>\n",
       "      <td>2021</td>\n",
       "      <td>90</td>\n",
       "      <td>NaN</td>\n",
       "      <td>5.9</td>\n",
       "      <td>50.0</td>\n",
       "      <td>1.400</td>\n",
       "      <td>2.0</td>\n",
       "    </tr>\n",
       "    <tr>\n",
       "      <th>3291</th>\n",
       "      <td>2021</td>\n",
       "      <td>28</td>\n",
       "      <td>NaN</td>\n",
       "      <td>NaN</td>\n",
       "      <td>NaN</td>\n",
       "      <td>NaN</td>\n",
       "      <td>NaN</td>\n",
       "    </tr>\n",
       "    <tr>\n",
       "      <th>3292</th>\n",
       "      <td>2021</td>\n",
       "      <td>28</td>\n",
       "      <td>NaN</td>\n",
       "      <td>NaN</td>\n",
       "      <td>NaN</td>\n",
       "      <td>NaN</td>\n",
       "      <td>NaN</td>\n",
       "    </tr>\n",
       "    <tr>\n",
       "      <th>3293</th>\n",
       "      <td>2021</td>\n",
       "      <td>40</td>\n",
       "      <td>NaN</td>\n",
       "      <td>NaN</td>\n",
       "      <td>NaN</td>\n",
       "      <td>1.101</td>\n",
       "      <td>5.3</td>\n",
       "    </tr>\n",
       "  </tbody>\n",
       "</table>\n",
       "<p>3294 rows × 7 columns</p>\n",
       "</div>"
      ],
      "text/plain": [
       "      release_year  runtime  seasons  imdb_score  imdb_votes  tmdb_popularity  \\\n",
       "0             1939      102      NaN         8.1    389774.0           41.442   \n",
       "1             1941      119      NaN         8.3    433804.0           14.383   \n",
       "2             1942      102      NaN         8.5    558849.0           20.087   \n",
       "3             1946      116      NaN         7.9     84494.0           12.911   \n",
       "4             1941      100      NaN         8.0    156603.0           12.788   \n",
       "...            ...      ...      ...         ...         ...              ...   \n",
       "3289          2021      103      NaN         NaN         NaN            8.425   \n",
       "3290          2021       90      NaN         5.9        50.0            1.400   \n",
       "3291          2021       28      NaN         NaN         NaN              NaN   \n",
       "3292          2021       28      NaN         NaN         NaN              NaN   \n",
       "3293          2021       40      NaN         NaN         NaN            1.101   \n",
       "\n",
       "      tmdb_score  \n",
       "0            7.6  \n",
       "1            8.0  \n",
       "2            8.2  \n",
       "3            7.7  \n",
       "4            7.8  \n",
       "...          ...  \n",
       "3289         8.1  \n",
       "3290         2.0  \n",
       "3291         NaN  \n",
       "3292         NaN  \n",
       "3293         5.3  \n",
       "\n",
       "[3294 rows x 7 columns]"
      ]
     },
     "execution_count": 17,
     "metadata": {},
     "output_type": "execute_result"
    }
   ],
   "source": [
    "### its convert to integer to float.\n",
    "integer_to_flot=HBO_MOVIES_df.select_dtypes(['int64','float64'])\n",
    "integer_to_flot"
   ]
  },
  {
   "cell_type": "code",
   "execution_count": 18,
   "metadata": {},
   "outputs": [
    {
     "data": {
      "text/html": [
       "<div>\n",
       "<style scoped>\n",
       "    .dataframe tbody tr th:only-of-type {\n",
       "        vertical-align: middle;\n",
       "    }\n",
       "\n",
       "    .dataframe tbody tr th {\n",
       "        vertical-align: top;\n",
       "    }\n",
       "\n",
       "    .dataframe thead th {\n",
       "        text-align: right;\n",
       "    }\n",
       "</style>\n",
       "<table border=\"1\" class=\"dataframe\">\n",
       "  <thead>\n",
       "    <tr style=\"text-align: right;\">\n",
       "      <th></th>\n",
       "      <th>id</th>\n",
       "      <th>title</th>\n",
       "      <th>type</th>\n",
       "      <th>description</th>\n",
       "      <th>release_year</th>\n",
       "      <th>age_certification</th>\n",
       "      <th>runtime</th>\n",
       "      <th>genres</th>\n",
       "      <th>production_countries</th>\n",
       "      <th>seasons</th>\n",
       "      <th>imdb_id</th>\n",
       "      <th>imdb_score</th>\n",
       "      <th>imdb_votes</th>\n",
       "      <th>tmdb_popularity</th>\n",
       "      <th>tmdb_score</th>\n",
       "    </tr>\n",
       "  </thead>\n",
       "  <tbody>\n",
       "    <tr>\n",
       "      <th>0</th>\n",
       "      <td>tm155702</td>\n",
       "      <td>The Wizard of Oz</td>\n",
       "      <td>MOVIE</td>\n",
       "      <td>Young Dorothy finds herself in a magical world...</td>\n",
       "      <td>1939</td>\n",
       "      <td>G</td>\n",
       "      <td>102</td>\n",
       "      <td>['fantasy', 'family']</td>\n",
       "      <td>['US']</td>\n",
       "      <td>NaN</td>\n",
       "      <td>tt0032138</td>\n",
       "      <td>8.1</td>\n",
       "      <td>389774.0</td>\n",
       "      <td>41.442</td>\n",
       "      <td>7.6</td>\n",
       "    </tr>\n",
       "    <tr>\n",
       "      <th>1</th>\n",
       "      <td>tm83648</td>\n",
       "      <td>Citizen Kane</td>\n",
       "      <td>MOVIE</td>\n",
       "      <td>Newspaper magnate, Charles Foster Kane is take...</td>\n",
       "      <td>1941</td>\n",
       "      <td>PG</td>\n",
       "      <td>119</td>\n",
       "      <td>['drama']</td>\n",
       "      <td>['US']</td>\n",
       "      <td>NaN</td>\n",
       "      <td>tt0033467</td>\n",
       "      <td>8.3</td>\n",
       "      <td>433804.0</td>\n",
       "      <td>14.383</td>\n",
       "      <td>8.0</td>\n",
       "    </tr>\n",
       "    <tr>\n",
       "      <th>2</th>\n",
       "      <td>tm77588</td>\n",
       "      <td>Casablanca</td>\n",
       "      <td>MOVIE</td>\n",
       "      <td>In Casablanca, Morocco in December 1941, a cyn...</td>\n",
       "      <td>1942</td>\n",
       "      <td>PG</td>\n",
       "      <td>102</td>\n",
       "      <td>['drama', 'romance', 'war']</td>\n",
       "      <td>['US']</td>\n",
       "      <td>NaN</td>\n",
       "      <td>tt0034583</td>\n",
       "      <td>8.5</td>\n",
       "      <td>558849.0</td>\n",
       "      <td>20.087</td>\n",
       "      <td>8.2</td>\n",
       "    </tr>\n",
       "    <tr>\n",
       "      <th>3</th>\n",
       "      <td>tm82363</td>\n",
       "      <td>The Big Sleep</td>\n",
       "      <td>MOVIE</td>\n",
       "      <td>Private Investigator Philip Marlowe is hired b...</td>\n",
       "      <td>1946</td>\n",
       "      <td>NaN</td>\n",
       "      <td>116</td>\n",
       "      <td>['thriller', 'crime']</td>\n",
       "      <td>['US']</td>\n",
       "      <td>NaN</td>\n",
       "      <td>tt0038355</td>\n",
       "      <td>7.9</td>\n",
       "      <td>84494.0</td>\n",
       "      <td>12.911</td>\n",
       "      <td>7.7</td>\n",
       "    </tr>\n",
       "    <tr>\n",
       "      <th>4</th>\n",
       "      <td>tm84701</td>\n",
       "      <td>The Maltese Falcon</td>\n",
       "      <td>MOVIE</td>\n",
       "      <td>A private detective takes on a case that invol...</td>\n",
       "      <td>1941</td>\n",
       "      <td>NaN</td>\n",
       "      <td>100</td>\n",
       "      <td>['thriller', 'romance', 'crime']</td>\n",
       "      <td>['US']</td>\n",
       "      <td>NaN</td>\n",
       "      <td>tt0033870</td>\n",
       "      <td>8.0</td>\n",
       "      <td>156603.0</td>\n",
       "      <td>12.788</td>\n",
       "      <td>7.8</td>\n",
       "    </tr>\n",
       "    <tr>\n",
       "      <th>5</th>\n",
       "      <td>tm156463</td>\n",
       "      <td>Gone with the Wind</td>\n",
       "      <td>MOVIE</td>\n",
       "      <td>The spoiled daughter of a well-to-do plantatio...</td>\n",
       "      <td>1939</td>\n",
       "      <td>G</td>\n",
       "      <td>233</td>\n",
       "      <td>['war', 'romance', 'drama', 'history']</td>\n",
       "      <td>['US']</td>\n",
       "      <td>NaN</td>\n",
       "      <td>tt0031381</td>\n",
       "      <td>8.2</td>\n",
       "      <td>309856.0</td>\n",
       "      <td>24.092</td>\n",
       "      <td>8.0</td>\n",
       "    </tr>\n",
       "    <tr>\n",
       "      <th>6</th>\n",
       "      <td>ts225761</td>\n",
       "      <td>Tom and Jerry</td>\n",
       "      <td>SHOW</td>\n",
       "      <td>Tom and Jerry is an American animated franchis...</td>\n",
       "      <td>1940</td>\n",
       "      <td>NaN</td>\n",
       "      <td>8</td>\n",
       "      <td>['animation', 'comedy', 'family', 'action']</td>\n",
       "      <td>['US']</td>\n",
       "      <td>16.0</td>\n",
       "      <td>tt12158994</td>\n",
       "      <td>7.7</td>\n",
       "      <td>853.0</td>\n",
       "      <td>1.400</td>\n",
       "      <td>10.0</td>\n",
       "    </tr>\n",
       "  </tbody>\n",
       "</table>\n",
       "</div>"
      ],
      "text/plain": [
       "         id               title   type  \\\n",
       "0  tm155702    The Wizard of Oz  MOVIE   \n",
       "1   tm83648        Citizen Kane  MOVIE   \n",
       "2   tm77588          Casablanca  MOVIE   \n",
       "3   tm82363       The Big Sleep  MOVIE   \n",
       "4   tm84701  The Maltese Falcon  MOVIE   \n",
       "5  tm156463  Gone with the Wind  MOVIE   \n",
       "6  ts225761       Tom and Jerry   SHOW   \n",
       "\n",
       "                                         description  release_year  \\\n",
       "0  Young Dorothy finds herself in a magical world...          1939   \n",
       "1  Newspaper magnate, Charles Foster Kane is take...          1941   \n",
       "2  In Casablanca, Morocco in December 1941, a cyn...          1942   \n",
       "3  Private Investigator Philip Marlowe is hired b...          1946   \n",
       "4  A private detective takes on a case that invol...          1941   \n",
       "5  The spoiled daughter of a well-to-do plantatio...          1939   \n",
       "6  Tom and Jerry is an American animated franchis...          1940   \n",
       "\n",
       "  age_certification  runtime                                       genres  \\\n",
       "0                 G      102                        ['fantasy', 'family']   \n",
       "1                PG      119                                    ['drama']   \n",
       "2                PG      102                  ['drama', 'romance', 'war']   \n",
       "3               NaN      116                        ['thriller', 'crime']   \n",
       "4               NaN      100             ['thriller', 'romance', 'crime']   \n",
       "5                 G      233       ['war', 'romance', 'drama', 'history']   \n",
       "6               NaN        8  ['animation', 'comedy', 'family', 'action']   \n",
       "\n",
       "  production_countries  seasons     imdb_id  imdb_score  imdb_votes  \\\n",
       "0               ['US']      NaN   tt0032138         8.1    389774.0   \n",
       "1               ['US']      NaN   tt0033467         8.3    433804.0   \n",
       "2               ['US']      NaN   tt0034583         8.5    558849.0   \n",
       "3               ['US']      NaN   tt0038355         7.9     84494.0   \n",
       "4               ['US']      NaN   tt0033870         8.0    156603.0   \n",
       "5               ['US']      NaN   tt0031381         8.2    309856.0   \n",
       "6               ['US']     16.0  tt12158994         7.7       853.0   \n",
       "\n",
       "   tmdb_popularity  tmdb_score  \n",
       "0           41.442         7.6  \n",
       "1           14.383         8.0  \n",
       "2           20.087         8.2  \n",
       "3           12.911         7.7  \n",
       "4           12.788         7.8  \n",
       "5           24.092         8.0  \n",
       "6            1.400        10.0  "
      ]
     },
     "execution_count": 18,
     "metadata": {},
     "output_type": "execute_result"
    }
   ],
   "source": [
    "### its shows the top 7 values in HBO_MOVIES_df.\n",
    "HBO_MOVIES_df.head(7)"
   ]
  },
  {
   "cell_type": "code",
   "execution_count": 19,
   "metadata": {},
   "outputs": [
    {
     "data": {
      "text/plain": [
       "<matplotlib.legend.Legend at 0x15391b1bbe0>"
      ]
     },
     "execution_count": 19,
     "metadata": {},
     "output_type": "execute_result"
    },
    {
     "data": {
      "image/png": "[encoded data removed]",
      "text/plain": [
       "<Figure size 432x288 with 1 Axes>"
      ]
     },
     "metadata": {
      "needs_background": "light"
     },
     "output_type": "display_data"
    }
   ],
   "source": [
    "### its display the which is mostly released in HBO platform. using barplot the package of pandas.\n",
    "plt.title([\"mostly released types\"])\n",
    "plt.hist(HBO_MOVIES_df.type,color=\"red\",label=True)\n",
    "plt.legend(['movies','legend'])"
   ]
  },
  {
   "cell_type": "code",
   "execution_count": 20,
   "metadata": {},
   "outputs": [
    {
     "data": {
      "text/plain": [
       "Text(0.5, 1.0, \"['year wise release']\")"
      ]
     },
     "execution_count": 20,
     "metadata": {},
     "output_type": "execute_result"
    },
    {
     "data": {
      "image/png": "[encoded data removed]",
      "text/plain": [
       "<Figure size 432x288 with 1 Axes>"
      ]
     },
     "metadata": {
      "needs_background": "light"
     },
     "output_type": "display_data"
    }
   ],
   "source": [
    "plt.hist(HBO_MOVIES_df.release_year,color=\"orchid\",label=True)\n",
    "plt.legend([\"year\"])\n",
    "plt.title([\"year wise release\"])\n"
   ]
  },
  {
   "cell_type": "code",
   "execution_count": 21,
   "metadata": {},
   "outputs": [
    {
     "name": "stderr",
     "output_type": "stream",
     "text": [
      "c:\\Users\\elcot\\AppData\\Local\\Programs\\Python\\Python310\\lib\\site-packages\\seaborn\\distributions.py:2619: FutureWarning: `distplot` is a deprecated function and will be removed in a future version. Please adapt your code to use either `displot` (a figure-level function with similar flexibility) or `histplot` (an axes-level function for histograms).\n",
      "  warnings.warn(msg, FutureWarning)\n"
     ]
    },
    {
     "data": {
      "text/plain": [
       "<AxesSubplot:xlabel='imdb_score', ylabel='Density'>"
      ]
     },
     "execution_count": 21,
     "metadata": {},
     "output_type": "execute_result"
    },
    {
     "data": {
      "image/png": "[encoded data removed]",
      "text/plain": [
       "<Figure size 432x288 with 1 Axes>"
      ]
     },
     "metadata": {
      "needs_background": "light"
     },
     "output_type": "display_data"
    }
   ],
   "source": [
    "### its display the data distripution of imdb_score using plot. \n",
    "sns.distplot(HBO_MOVIES_df.imdb_score,color=\"orange\")"
   ]
  },
  {
   "cell_type": "code",
   "execution_count": 22,
   "metadata": {},
   "outputs": [
    {
     "data": {
      "text/plain": [
       "(array([  3.,   8.,  28.,  54., 177., 444., 779., 916., 453.,  60.]),\n",
       " array([1.5 , 2.29, 3.08, 3.87, 4.66, 5.45, 6.24, 7.03, 7.82, 8.61, 9.4 ]),\n",
       " <BarContainer object of 10 artists>)"
      ]
     },
     "execution_count": 22,
     "metadata": {},
     "output_type": "execute_result"
    },
    {
     "data": {
      "image/png": "[encoded data removed]",
      "text/plain": [
       "<Figure size 432x288 with 1 Axes>"
      ]
     },
     "metadata": {
      "needs_background": "light"
     },
     "output_type": "display_data"
    }
   ],
   "source": [
    "### its distribution of imdb_score.\n",
    "plt.hist(HBO_MOVIES_df.imdb_score,color=[\"orange\"])"
   ]
  },
  {
   "cell_type": "code",
   "execution_count": 23,
   "metadata": {},
   "outputs": [
    {
     "name": "stderr",
     "output_type": "stream",
     "text": [
      "c:\\Users\\elcot\\AppData\\Local\\Programs\\Python\\Python310\\lib\\site-packages\\seaborn\\distributions.py:2619: FutureWarning: `distplot` is a deprecated function and will be removed in a future version. Please adapt your code to use either `displot` (a figure-level function with similar flexibility) or `histplot` (an axes-level function for histograms).\n",
      "  warnings.warn(msg, FutureWarning)\n"
     ]
    },
    {
     "data": {
      "text/plain": [
       "<AxesSubplot:xlabel='tmdb_score', ylabel='Density'>"
      ]
     },
     "execution_count": 23,
     "metadata": {},
     "output_type": "execute_result"
    },
    {
     "data": {
      "image/png": "[encoded data removed]",
      "text/plain": [
       "<Figure size 432x288 with 1 Axes>"
      ]
     },
     "metadata": {
      "needs_background": "light"
     },
     "output_type": "display_data"
    }
   ],
   "source": [
    "### its display the data distripution of tmdb_score using plot. \n",
    "sns.distplot(HBO_MOVIES_df.tmdb_score,color=\"darkblue\")"
   ]
  },
  {
   "cell_type": "code",
   "execution_count": 24,
   "metadata": {},
   "outputs": [
    {
     "data": {
      "text/plain": [
       "(array([   7.,    8.,   14.,   36.,  182.,  632., 1050.,  867.,  190.,\n",
       "          40.]),\n",
       " array([ 1. ,  1.9,  2.8,  3.7,  4.6,  5.5,  6.4,  7.3,  8.2,  9.1, 10. ]),\n",
       " <BarContainer object of 10 artists>)"
      ]
     },
     "execution_count": 24,
     "metadata": {},
     "output_type": "execute_result"
    },
    {
     "data": {
      "image/png": "[encoded data removed]",
      "text/plain": [
       "<Figure size 432x288 with 1 Axes>"
      ]
     },
     "metadata": {
      "needs_background": "light"
     },
     "output_type": "display_data"
    }
   ],
   "source": [
    "### is a distrbution of data tmdb_score.\n",
    "plt.hist(HBO_MOVIES_df.tmdb_score,color=\"darkblue\")"
   ]
  },
  {
   "cell_type": "code",
   "execution_count": 25,
   "metadata": {},
   "outputs": [
    {
     "data": {
      "text/plain": [
       "(array([   7.,    8.,   14.,   36.,  182.,  632., 1050.,  867.,  190.,\n",
       "          40.]),\n",
       " array([ 1. ,  1.9,  2.8,  3.7,  4.6,  5.5,  6.4,  7.3,  8.2,  9.1, 10. ]),\n",
       " <BarContainer object of 10 artists>)"
      ]
     },
     "execution_count": 25,
     "metadata": {},
     "output_type": "execute_result"
    },
    {
     "data": {
      "image/png": "[encoded data removed]",
      "text/plain": [
       "<Figure size 432x288 with 1 Axes>"
      ]
     },
     "metadata": {
      "needs_background": "light"
     },
     "output_type": "display_data"
    }
   ],
   "source": [
    "### any relation betweeen imdb score vs tm_db score.\n",
    "plt.hist(HBO_MOVIES_df.imdb_score,color=\"red\")\n",
    "plt.hist(HBO_MOVIES_df.tmdb_score,color=\"blue\") "
   ]
  },
  {
   "cell_type": "code",
   "execution_count": 26,
   "metadata": {},
   "outputs": [
    {
     "name": "stderr",
     "output_type": "stream",
     "text": [
      "c:\\Users\\elcot\\AppData\\Local\\Programs\\Python\\Python310\\lib\\site-packages\\seaborn\\_decorators.py:36: FutureWarning: Pass the following variables as keyword args: x, y. From version 0.12, the only valid positional argument will be `data`, and passing other arguments without an explicit keyword will result in an error or misinterpretation.\n",
      "  warnings.warn(\n"
     ]
    },
    {
     "data": {
      "text/plain": [
       "<seaborn.axisgrid.FacetGrid at 0x15395fcb9a0>"
      ]
     },
     "execution_count": 26,
     "metadata": {},
     "output_type": "execute_result"
    },
    {
     "data": {
      "image/png": "[encoded data removed]",
      "text/plain": [
       "<Figure size 360x360 with 1 Axes>"
      ]
     },
     "metadata": {
      "needs_background": "light"
     },
     "output_type": "display_data"
    }
   ],
   "source": [
    "sns.relplot(HBO_MOVIES_df.imdb_score,HBO_MOVIES_df.tmdb_score)"
   ]
  },
  {
   "cell_type": "code",
   "execution_count": 27,
   "metadata": {},
   "outputs": [
    {
     "data": {
      "text/plain": [
       "count    2922.000000\n",
       "mean        6.883949\n",
       "std         1.059668\n",
       "min         1.500000\n",
       "25%         6.300000\n",
       "50%         7.000000\n",
       "75%         7.600000\n",
       "max         9.400000\n",
       "Name: imdb_score, dtype: float64"
      ]
     },
     "execution_count": 27,
     "metadata": {},
     "output_type": "execute_result"
    }
   ],
   "source": [
    "HBO_MOVIES_df.imdb_score.describe()"
   ]
  },
  {
   "cell_type": "code",
   "execution_count": 28,
   "metadata": {},
   "outputs": [
    {
     "data": {
      "text/plain": [
       "count    3026.000000\n",
       "mean        6.850099\n",
       "std         1.081377\n",
       "min         1.000000\n",
       "25%         6.200000\n",
       "50%         6.900000\n",
       "75%         7.500000\n",
       "max        10.000000\n",
       "Name: tmdb_score, dtype: float64"
      ]
     },
     "execution_count": 28,
     "metadata": {},
     "output_type": "execute_result"
    }
   ],
   "source": [
    "HBO_MOVIES_df.tmdb_score.describe()"
   ]
  },
  {
   "cell_type": "code",
   "execution_count": 29,
   "metadata": {},
   "outputs": [
    {
     "name": "stderr",
     "output_type": "stream",
     "text": [
      "c:\\Users\\elcot\\AppData\\Local\\Programs\\Python\\Python310\\lib\\site-packages\\seaborn\\distributions.py:2619: FutureWarning: `distplot` is a deprecated function and will be removed in a future version. Please adapt your code to use either `displot` (a figure-level function with similar flexibility) or `histplot` (an axes-level function for histograms).\n",
      "  warnings.warn(msg, FutureWarning)\n"
     ]
    },
    {
     "data": {
      "text/plain": [
       "0       41.442\n",
       "1       14.383\n",
       "2       20.087\n",
       "3       12.911\n",
       "4       12.788\n",
       "         ...  \n",
       "3289     8.425\n",
       "3290     1.400\n",
       "3291       NaN\n",
       "3292       NaN\n",
       "3293     1.101\n",
       "Name: tmdb_popularity, Length: 3294, dtype: float64"
      ]
     },
     "execution_count": 29,
     "metadata": {},
     "output_type": "execute_result"
    },
    {
     "data": {
      "image/png": "[encoded data removed]",
      "text/plain": [
       "<Figure size 432x288 with 1 Axes>"
      ]
     },
     "metadata": {
      "needs_background": "light"
     },
     "output_type": "display_data"
    }
   ],
   "source": [
    "sns.distplot(HBO_MOVIES_df.tmdb_popularity)\n",
    "HBO_MOVIES_df.tmdb_popularity"
   ]
  },
  {
   "cell_type": "code",
   "execution_count": 30,
   "metadata": {},
   "outputs": [
    {
     "name": "stderr",
     "output_type": "stream",
     "text": [
      "c:\\Users\\elcot\\AppData\\Local\\Programs\\Python\\Python310\\lib\\site-packages\\seaborn\\_decorators.py:36: FutureWarning: Pass the following variables as keyword args: x, y. From version 0.12, the only valid positional argument will be `data`, and passing other arguments without an explicit keyword will result in an error or misinterpretation.\n",
      "  warnings.warn(\n"
     ]
    },
    {
     "data": {
      "text/plain": [
       "<seaborn.axisgrid.FacetGrid at 0x15395ff0190>"
      ]
     },
     "execution_count": 30,
     "metadata": {},
     "output_type": "execute_result"
    },
    {
     "data": {
      "image/png": "[encoded data removed]",
      "text/plain": [
       "<Figure size 360x360 with 1 Axes>"
      ]
     },
     "metadata": {
      "needs_background": "light"
     },
     "output_type": "display_data"
    }
   ],
   "source": [
    "sns.relplot(HBO_MOVIES_df.tmdb_popularity,HBO_MOVIES_df.tmdb_score)"
   ]
  },
  {
   "cell_type": "code",
   "execution_count": 31,
   "metadata": {},
   "outputs": [],
   "source": [
    "###  conclusion:\n",
    "###  in this data set i laerned from the data is imdb score is comparetive  lower than tmdb_score.\n",
    "###  because the imdb is movie authorities is judge he put score .\n",
    "###  because the tmdb is a user editable data base then its higher marks is own. "
   ]
  }
 ],
 "metadata": {
  "interpreter": {
   "hash": "8d9027cfcf7e49d9582e0c08e2a2a9b22655250545e68d77869e832510f8209b"
  },
  "kernelspec": {
   "display_name": "Python 3.10.2 64-bit",
   "language": "python",
   "name": "python3"
  },
  "language_info": {
   "codemirror_mode": {
    "name": "ipython",
    "version": 3
   },
   "file_extension": ".py",
   "mimetype": "text/x-python",
   "name": "python",
   "nbconvert_exporter": "python",
   "pygments_lexer": "ipython3",
   "version": "3.10.2"
  },
  "orig_nbformat": 4
 },
 "nbformat": 4,
 "nbformat_minor": 2
}
